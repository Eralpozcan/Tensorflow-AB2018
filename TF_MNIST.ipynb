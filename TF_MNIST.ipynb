{
  "nbformat": 4,
  "nbformat_minor": 0,
  "metadata": {
    "colab": {
      "name": "TF MNIST.ipynb",
      "version": "0.3.2",
      "views": {},
      "default_view": {},
      "provenance": []
    },
    "kernelspec": {
      "name": "python3",
      "display_name": "Python 3"
    },
    "accelerator": "GPU"
  },
  "cells": [
    {
      "metadata": {
        "id": "8wsPK_ZzkxAg",
        "colab_type": "code",
        "colab": {
          "autoexec": {
            "startup": false,
            "wait_interval": 0
          }
        }
      },
      "cell_type": "code",
      "source": [
        "!apt-get install -y -qq software-properties-common python-software-properties module-init-tools\n",
        "!add-apt-repository -y ppa:alessandro-strada/ppa 2>&1 > /dev/null\n",
        "!apt-get update -qq 2>&1 > /dev/null\n",
        "!apt-get -y install -qq google-drive-ocamlfuse fuse\n",
        "from google.colab import auth\n",
        "auth.authenticate_user()\n",
        "from oauth2client.client import GoogleCredentials\n",
        "creds = GoogleCredentials.get_application_default()\n",
        "import getpass\n",
        "!google-drive-ocamlfuse -headless -id={creds.client_id} -secret={creds.client_secret} < /dev/null 2>&1 | grep URL\n",
        "vcode = getpass.getpass()\n",
        "!echo {vcode} | google-drive-ocamlfuse -headless -id={creds.client_id} -secret={creds.client_secret}"
      ],
      "execution_count": 0,
      "outputs": []
    },
    {
      "metadata": {
        "id": "GNXAsm7Mk0IG",
        "colab_type": "code",
        "colab": {
          "autoexec": {
            "startup": false,
            "wait_interval": 0
          }
        }
      },
      "cell_type": "code",
      "source": [
        "!apt-get install -y python-numpy python-dev cmake zlib1g-dev libjpeg-dev xvfb libav-tools xorg-dev python-opengl libboost-all-dev libsdl2-dev swig"
      ],
      "execution_count": 0,
      "outputs": []
    },
    {
      "metadata": {
        "id": "2Gc2x6ECk0PN",
        "colab_type": "code",
        "colab": {
          "autoexec": {
            "startup": false,
            "wait_interval": 0
          }
        }
      },
      "cell_type": "code",
      "source": [
        "!pip install gym"
      ],
      "execution_count": 0,
      "outputs": []
    },
    {
      "metadata": {
        "id": "f3CTROaKk0R1",
        "colab_type": "code",
        "colab": {
          "autoexec": {
            "startup": false,
            "wait_interval": 0
          }
        }
      },
      "cell_type": "code",
      "source": [
        "!pip install keras"
      ],
      "execution_count": 0,
      "outputs": []
    },
    {
      "metadata": {
        "id": "Ea_F2l6Uk0UL",
        "colab_type": "code",
        "colab": {
          "autoexec": {
            "startup": false,
            "wait_interval": 0
          }
        }
      },
      "cell_type": "code",
      "source": [
        "!pip freeze | grep gym"
      ],
      "execution_count": 0,
      "outputs": []
    },
    {
      "metadata": {
        "id": "hIKSKdbqk0Wk",
        "colab_type": "code",
        "colab": {
          "autoexec": {
            "startup": false,
            "wait_interval": 0
          }
        }
      },
      "cell_type": "code",
      "source": [
        "import tensorflow as tf\n",
        "from tensorflow.examples.tutorials.mnist import input_data\n",
        "import matplotlib.pyplot as plt\n",
        "import numpy as np\n",
        "import random\n",
        "\n",
        "%matplotlib inline"
      ],
      "execution_count": 0,
      "outputs": []
    },
    {
      "metadata": {
        "id": "YQ2nyCOFk0Y8",
        "colab_type": "code",
        "colab": {
          "autoexec": {
            "startup": false,
            "wait_interval": 0
          }
        }
      },
      "cell_type": "code",
      "source": [
        "mnist= input_data.read_data_sets('data/MNIST/',one_hot=True)  # Mnist verisini indiriyoruz."
      ],
      "execution_count": 0,
      "outputs": []
    },
    {
      "metadata": {
        "id": "73HxPCWRk0bF",
        "colab_type": "code",
        "colab": {
          "autoexec": {
            "startup": false,
            "wait_interval": 0
          }
        }
      },
      "cell_type": "code",
      "source": [
        "X = tf.placeholder(tf.float32,[None,784])  # Placeholder yer tutucu 28x28 den 784 Pixel olacağı için içi boş None sadece gösteriyoruz.\n",
        "y = tf.placeholder(tf.float32,[None,10])\n",
        "\n",
        "W_hidden1 = tf.Variable(tf.truncated_normal(shape=[784,256],stddev=0.1)) # Burada 16x16 dan 256 ya verimizi düşürüyoruz.\n",
        "\n",
        "b_hidden1 = tf.Variable(tf.constant(shape=[256],value=0.1))\n",
        "\n",
        "W_hidden2 = tf.Variable(tf.truncated_normal(shape=[256,128],stddev=0.1))\n",
        "\n",
        "b_hidden2 = tf.Variable(tf.constant(shape=[128],value=0.1))\n",
        "\n",
        "W_output = tf.Variable(tf.truncated_normal(shape=[128,10],stddev=0.1))\n",
        "\n",
        "b_output = tf.Variable(tf.constant(shape=[10],value=0.1))"
      ],
      "execution_count": 0,
      "outputs": []
    },
    {
      "metadata": {
        "id": "BkLi51gak0dT",
        "colab_type": "code",
        "colab": {
          "autoexec": {
            "startup": false,
            "wait_interval": 0
          }
        }
      },
      "cell_type": "code",
      "source": [
        "logit1=tf.matmul(X,W_hidden1) + b_hidden1\n",
        "activ1=tf.nn.sigmoid(logit1)\n",
        "\n",
        "logit2 = tf.matmul(activ1, W_hidden2) + b_hidden2\n",
        "activ2 = tf.nn.sigmoid(logit2)\n",
        "\n",
        "logit3=tf.matmul(activ2,W_output) + b_output\n",
        "y_pred = tf.nn.softmax(logit2)\n",
        "\n",
        "loss=tf.reduce_mean(-tf.reduce_sum(y * tf.log(y_pred),reduction_indices=[1]))\n",
        "\n",
        "optimizer = tf.train.GradientDescentOptimizer(0.5).minimize(loss)\n",
        "\n",
        "correct_predictions=tf.equal(tf.argmax(y,1),tf.argmax(y_pred,1))\n",
        "\n",
        "accuray=tf.reduce_mean(tf.cast(correct_predictions,tf.float32))"
      ],
      "execution_count": 0,
      "outputs": []
    },
    {
      "metadata": {
        "id": "LKqOF2ZYlMIL",
        "colab_type": "code",
        "colab": {
          "autoexec": {
            "startup": false,
            "wait_interval": 0
          }
        }
      },
      "cell_type": "code",
      "source": [
        "sess= tf.Session()\n",
        "sess.run(tf.global_variables_initializer())\n",
        "\n",
        "for i in range(10000):\n",
        "  xs ,ys = mnist.train.next_batch(128) # Tek seferde 128 resim gönder.\n",
        "  sess.run(optimizer ,feed_dict={X: xs, y: ys})\n",
        "  \n",
        "  if i % 300 == 0:\n",
        "    acc=sess.run(accuracy, feed_dict={X: mnist.test.images,\n",
        "                                     y: mnist.test.labels})\n",
        "    \n",
        "    print(\"[*] Step : %d , test accuracy : %.2f%%\" % (i,acc* 100))"
      ],
      "execution_count": 0,
      "outputs": []
    }
  ]
}