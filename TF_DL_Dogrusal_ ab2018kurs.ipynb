{
  "nbformat": 4,
  "nbformat_minor": 0,
  "metadata": {
    "colab": {
      "name": "ab2018kurs.ipynb",
      "version": "0.3.2",
      "views": {},
      "default_view": {},
      "provenance": [],
      "collapsed_sections": []
    },
    "kernelspec": {
      "name": "python3",
      "display_name": "Python 3"
    },
    "accelerator": "GPU"
  },
  "cells": [
    {
      "metadata": {
        "id": "lTVoKga5jh97",
        "colab_type": "text"
      },
      "cell_type": "markdown",
      "source": [
        "## AB2018 Derin Öğrenme Kursu\n",
        "\n",
        "\n",
        "\n",
        "Doğrusal model öğrenin Tensorflow ile yapılması."
      ]
    },
    {
      "metadata": {
        "id": "gKy33IsikldW",
        "colab_type": "text"
      },
      "cell_type": "markdown",
      "source": [
        "## Ön yüklemelerin yapılması.\n",
        "\n",
        "Ön yüklemelerin yapılması colab için."
      ]
    },
    {
      "metadata": {
        "id": "h4afs9seiq-N",
        "colab_type": "code",
        "colab": {
          "autoexec": {
            "startup": false,
            "wait_interval": 0
          }
        }
      },
      "cell_type": "code",
      "source": [
        "!apt-get install -y -qq software-properties-common python-software-properties module-init-tools\n",
        "!add-apt-repository -y ppa:alessandro-strada/ppa 2>&1 > /dev/null\n",
        "!apt-get update -qq 2>&1 > /dev/null\n",
        "!apt-get -y install -qq google-drive-ocamlfuse fuse\n",
        "from google.colab import auth\n",
        "auth.authenticate_user()\n",
        "from oauth2client.client import GoogleCredentials\n",
        "creds = GoogleCredentials.get_application_default()\n",
        "import getpass\n",
        "!google-drive-ocamlfuse -headless -id={creds.client_id} -secret={creds.client_secret} < /dev/null 2>&1 | grep URL\n",
        "vcode = getpass.getpass()\n",
        "!echo {vcode} | google-drive-ocamlfuse -headless -id={creds.client_id} -secret={creds.client_secret}"
      ],
      "execution_count": 0,
      "outputs": []
    },
    {
      "metadata": {
        "id": "dg4FQV9WjH3b",
        "colab_type": "code",
        "colab": {
          "autoexec": {
            "startup": false,
            "wait_interval": 0
          }
        }
      },
      "cell_type": "code",
      "source": [
        "!apt-get install -y python-numpy python-dev cmake zlib1g-dev libjpeg-dev xvfb libav-tools xorg-dev python-opengl libboost-all-dev libsdl2-dev swig"
      ],
      "execution_count": 0,
      "outputs": []
    },
    {
      "metadata": {
        "id": "gV8LeKrRjIQs",
        "colab_type": "code",
        "colab": {
          "autoexec": {
            "startup": false,
            "wait_interval": 0
          }
        }
      },
      "cell_type": "code",
      "source": [
        "!pip install gym"
      ],
      "execution_count": 0,
      "outputs": []
    },
    {
      "metadata": {
        "id": "sQtOqgKKjeb9",
        "colab_type": "code",
        "colab": {
          "autoexec": {
            "startup": false,
            "wait_interval": 0
          }
        }
      },
      "cell_type": "code",
      "source": [
        "!pip install keras"
      ],
      "execution_count": 0,
      "outputs": []
    },
    {
      "metadata": {
        "id": "8BG1sS-cjbgB",
        "colab_type": "code",
        "colab": {
          "autoexec": {
            "startup": false,
            "wait_interval": 0
          }
        }
      },
      "cell_type": "code",
      "source": [
        "!pip freeze | grep gym"
      ],
      "execution_count": 0,
      "outputs": []
    },
    {
      "metadata": {
        "id": "-COp9ClKlCrU",
        "colab_type": "text"
      },
      "cell_type": "markdown",
      "source": [
        "# Kütüphanelerin İmport Edilmesi\n"
      ]
    },
    {
      "metadata": {
        "id": "qoGHGKyrjcub",
        "colab_type": "code",
        "colab": {
          "autoexec": {
            "startup": false,
            "wait_interval": 0
          }
        }
      },
      "cell_type": "code",
      "source": [
        "import tensorflow as tf\n",
        "from tensorflow.examples.tutorials.mnist import input_data\n",
        "import matplotlib.pyplot as plt\n",
        "import numpy as np\n",
        "import random\n",
        "\n",
        "%matplotlib inline\n"
      ],
      "execution_count": 0,
      "outputs": []
    },
    {
      "metadata": {
        "id": "LY_DqJmynUd6",
        "colab_type": "code",
        "colab": {
          "autoexec": {
            "startup": false,
            "wait_interval": 0
          },
          "output_extras": [
            {
              "item_id": 2
            }
          ],
          "base_uri": "https://localhost:8080/",
          "height": 85
        },
        "outputId": "7db6040f-3200-4613-a1a0-8789d77c7cbc",
        "executionInfo": {
          "status": "ok",
          "timestamp": 1517875241877,
          "user_tz": -180,
          "elapsed": 1252,
          "user": {
            "displayName": "Eralp Özcan",
            "photoUrl": "//lh5.googleusercontent.com/-MCjMIIz2Q80/AAAAAAAAAAI/AAAAAAAAACQ/fYaY2ovTkhc/s50-c-k-no/photo.jpg",
            "userId": "106137682665301037063"
          }
        }
      },
      "cell_type": "code",
      "source": [
        "mnist= input_data.read_data_sets('data/MNIST/',one_hot=True)"
      ],
      "execution_count": 2,
      "outputs": [
        {
          "output_type": "stream",
          "text": [
            "Extracting data/MNIST/train-images-idx3-ubyte.gz\n",
            "Extracting data/MNIST/train-labels-idx1-ubyte.gz\n",
            "Extracting data/MNIST/t10k-images-idx3-ubyte.gz\n",
            "Extracting data/MNIST/t10k-labels-idx1-ubyte.gz\n"
          ],
          "name": "stdout"
        }
      ]
    },
    {
      "metadata": {
        "id": "Ql-SqOrOnnxc",
        "colab_type": "code",
        "colab": {
          "autoexec": {
            "startup": false,
            "wait_interval": 0
          }
        }
      },
      "cell_type": "code",
      "source": [
        "def show_digit(pixels):\n",
        "  img= pixels.reshape(28,28)\n",
        "  plt.axis('off')\n",
        "  plt.imshow(img,cmap ='gray_r')\n",
        "  "
      ],
      "execution_count": 0,
      "outputs": []
    },
    {
      "metadata": {
        "id": "ma-8Wi_FoOLb",
        "colab_type": "text"
      },
      "cell_type": "markdown",
      "source": [
        "Veri setinden rasgele seçip göster."
      ]
    },
    {
      "metadata": {
        "id": "1MPFFt6Hn6Sy",
        "colab_type": "code",
        "colab": {
          "autoexec": {
            "startup": false,
            "wait_interval": 0
          },
          "output_extras": [
            {
              "item_id": 1
            }
          ],
          "base_uri": "https://localhost:8080/",
          "height": 265
        },
        "outputId": "3ad5d73c-719d-41ef-cfe0-9da0f7c63dc6",
        "executionInfo": {
          "status": "ok",
          "timestamp": 1517875252938,
          "user_tz": -180,
          "elapsed": 707,
          "user": {
            "displayName": "Eralp Özcan",
            "photoUrl": "//lh5.googleusercontent.com/-MCjMIIz2Q80/AAAAAAAAAAI/AAAAAAAAACQ/fYaY2ovTkhc/s50-c-k-no/photo.jpg",
            "userId": "106137682665301037063"
          }
        }
      },
      "cell_type": "code",
      "source": [
        "sample = random.choice(mnist.train.images)\n",
        "show_digit(sample)"
      ],
      "execution_count": 5,
      "outputs": [
        {
          "output_type": "display_data",
          "data": {
            "image/png": "[encoded data removed]",
            "text/plain": [
              "<matplotlib.figure.Figure at 0x7f924be9e3c8>"
            ]
          },
          "metadata": {
            "tags": []
          }
        }
      ]
    },
    {
      "metadata": {
        "id": "Ol12HfuooMpj",
        "colab_type": "code",
        "colab": {
          "autoexec": {
            "startup": false,
            "wait_interval": 0
          },
          "output_extras": [
            {
              "item_id": 1
            }
          ],
          "base_uri": "https://localhost:8080/",
          "height": 51
        },
        "outputId": "42fdd5d5-c849-4c4a-bbbe-0d0d34cdd8b0",
        "executionInfo": {
          "status": "ok",
          "timestamp": 1517875257120,
          "user_tz": -180,
          "elapsed": 777,
          "user": {
            "displayName": "Eralp Özcan",
            "photoUrl": "//lh5.googleusercontent.com/-MCjMIIz2Q80/AAAAAAAAAAI/AAAAAAAAACQ/fYaY2ovTkhc/s50-c-k-no/photo.jpg",
            "userId": "106137682665301037063"
          }
        }
      },
      "cell_type": "code",
      "source": [
        "print(u\"Eğitim veriseti : %d \" %len(mnist.train.images))\n",
        "print(u\"Test veriseti : %d\" %len(mnist.test.images))"
      ],
      "execution_count": 6,
      "outputs": [
        {
          "output_type": "stream",
          "text": [
            "Eğitim veriseti : 55000 \n",
            "Test veriseti : 10000\n"
          ],
          "name": "stdout"
        }
      ]
    },
    {
      "metadata": {
        "id": "sAr0G_9FtjgG",
        "colab_type": "text"
      },
      "cell_type": "markdown",
      "source": [
        "Değişkenlerin tanımlanması\n",
        "Girişlerin kaç tane olduğu X\n",
        "Çıkışların kaçtane olduğu y placholder(yer tutucu)lara atandı.\n",
        "\n",
        "W ve b değerlerimizi tanımladık."
      ]
    },
    {
      "metadata": {
        "id": "LzqqSNbKou_3",
        "colab_type": "code",
        "colab": {
          "autoexec": {
            "startup": false,
            "wait_interval": 0
          }
        }
      },
      "cell_type": "code",
      "source": [
        "X= tf.placeholder(tf.float32,[None,784]) # Yer tutucu. 28x28 den 784\n",
        "y= tf.placeholder(tf.float32,[None,10])\n",
        "\n",
        "W=tf.Variable(tf.truncated_normal(shape=[784,10],stddev=0.1)) #Ağırlık matrisi,rasgele sayılar oluştur # Stddev rasgele ağırlıklar arasında maximum olacak aralık\n",
        "b=tf.Variable(tf.constant(shape=[10], value=0.1)) # Bias tanımlaması.0.1"
      ],
      "execution_count": 0,
      "outputs": []
    },
    {
      "metadata": {
        "id": "AiTnlGS9tgi_",
        "colab_type": "text"
      },
      "cell_type": "markdown",
      "source": [
        "Optimizer : Bir araç tensorflow kütüphanesinin bir özelliği. GradientDescentOptimize öğrenme katsayısı. Her çalıştığında loss'u hesaplayıp küçültecek(minimize) edecek."
      ]
    },
    {
      "metadata": {
        "id": "dScjvU8CsaFJ",
        "colab_type": "code",
        "colab": {
          "autoexec": {
            "startup": false,
            "wait_interval": 0
          }
        }
      },
      "cell_type": "code",
      "source": [
        "y_pred=tf.nn.softmax(tf.matmul(X,W) + b) # Softmax\n",
        "\n",
        "loss=tf.reduce_mean(-tf.reduce_sum(y * tf.log(y_pred),reduction_indices=[1]))\n",
        "\n",
        "optimizer = tf.train.GradientDescentOptimizer(0.5).minimize(loss)\n",
        "\n",
        "correct_predictions=tf.equal(tf.argmax(y,1),tf.argmax(y_pred,1))\n",
        "\n",
        "accuracy=tf.reduce_mean(tf.cast(correct_predictions,tf.float32))"
      ],
      "execution_count": 0,
      "outputs": []
    },
    {
      "metadata": {
        "id": "LcEq5zQpv4Vm",
        "colab_type": "text"
      },
      "cell_type": "markdown",
      "source": [
        "Range komutu ile 10000'e kadar devam ediyor.\n",
        "İçerisinde bulunan if komutu ile de her 300 de 1 test doğruluğunu ekrana yansıtıyorum.\n"
      ]
    },
    {
      "metadata": {
        "id": "ty9YrDPNtu-d",
        "colab_type": "code",
        "colab": {
          "autoexec": {
            "startup": false,
            "wait_interval": 0
          },
          "output_extras": [
            {
              "item_id": 34
            }
          ],
          "base_uri": "https://localhost:8080/",
          "height": 595
        },
        "outputId": "1e03f1d8-5558-4eb0-d676-c9e3669b51f8",
        "executionInfo": {
          "status": "ok",
          "timestamp": 1517875320412,
          "user_tz": -180,
          "elapsed": 21841,
          "user": {
            "displayName": "Eralp Özcan",
            "photoUrl": "//lh5.googleusercontent.com/-MCjMIIz2Q80/AAAAAAAAAAI/AAAAAAAAACQ/fYaY2ovTkhc/s50-c-k-no/photo.jpg",
            "userId": "106137682665301037063"
          }
        }
      },
      "cell_type": "code",
      "source": [
        "sess=tf.Session()\n",
        "sess.run(tf.global_variables_initializer())\n",
        "\n",
        "for i in range(10000):\n",
        "  xs ,ys = mnist.train.next_batch(128) # Tek seferde 128 resim gönder.\n",
        "  sess.run(optimizer ,feed_dict={X: xs, y: ys})\n",
        "  \n",
        "  if i % 300 == 0: # 300 de bir bana durumu göster.\n",
        "    acc=sess.run(accuracy, feed_dict={X: mnist.test.images,\n",
        "                                     y: mnist.test.labels})\n",
        "    \n",
        "    print(\"[*] Step : %d , test accuracy : %.2f%%\" % (i,acc* 100))"
      ],
      "execution_count": 9,
      "outputs": [
        {
          "output_type": "stream",
          "text": [
            "[*] Step : 0 , test accuracy : 36.13%\n",
            "[*] Step : 300 , test accuracy : 90.81%\n",
            "[*] Step : 600 , test accuracy : 91.31%\n",
            "[*] Step : 900 , test accuracy : 91.71%\n",
            "[*] Step : 1200 , test accuracy : 91.93%\n",
            "[*] Step : 1500 , test accuracy : 91.94%\n",
            "[*] Step : 1800 , test accuracy : 91.94%\n",
            "[*] Step : 2100 , test accuracy : 92.18%\n",
            "[*] Step : 2400 , test accuracy : 92.05%\n",
            "[*] Step : 2700 , test accuracy : 92.04%\n",
            "[*] Step : 3000 , test accuracy : 92.34%\n",
            "[*] Step : 3300 , test accuracy : 91.89%\n",
            "[*] Step : 3600 , test accuracy : 92.34%\n",
            "[*] Step : 3900 , test accuracy : 92.08%\n",
            "[*] Step : 4200 , test accuracy : 91.94%\n",
            "[*] Step : 4500 , test accuracy : 92.05%\n",
            "[*] Step : 4800 , test accuracy : 92.33%\n",
            "[*] Step : 5100 , test accuracy : 92.07%\n",
            "[*] Step : 5400 , test accuracy : 92.22%\n",
            "[*] Step : 5700 , test accuracy : 92.32%\n",
            "[*] Step : 6000 , test accuracy : 92.52%\n",
            "[*] Step : 6300 , test accuracy : 92.18%\n",
            "[*] Step : 6600 , test accuracy : 92.32%\n",
            "[*] Step : 6900 , test accuracy : 92.43%\n",
            "[*] Step : 7200 , test accuracy : 92.43%\n",
            "[*] Step : 7500 , test accuracy : 92.05%\n",
            "[*] Step : 7800 , test accuracy : 92.28%\n",
            "[*] Step : 8100 , test accuracy : 92.50%\n",
            "[*] Step : 8400 , test accuracy : 92.40%\n",
            "[*] Step : 8700 , test accuracy : 92.28%\n",
            "[*] Step : 9000 , test accuracy : 92.57%\n",
            "[*] Step : 9300 , test accuracy : 92.21%\n",
            "[*] Step : 9600 , test accuracy : 92.33%\n",
            "[*] Step : 9900 , test accuracy : 92.42%\n"
          ],
          "name": "stdout"
        }
      ]
    },
    {
      "metadata": {
        "id": "ChJDwkN1__-4",
        "colab_type": "code",
        "colab": {
          "autoexec": {
            "startup": false,
            "wait_interval": 0
          },
          "output_extras": [
            {
              "item_id": 1
            },
            {
              "item_id": 2
            }
          ],
          "base_uri": "https://localhost:8080/",
          "height": 435
        },
        "outputId": "34754963-ff76-4739-ddb4-17b92980ea60",
        "executionInfo": {
          "status": "ok",
          "timestamp": 1517875324062,
          "user_tz": -180,
          "elapsed": 750,
          "user": {
            "displayName": "Eralp Özcan",
            "photoUrl": "//lh5.googleusercontent.com/-MCjMIIz2Q80/AAAAAAAAAAI/AAAAAAAAACQ/fYaY2ovTkhc/s50-c-k-no/photo.jpg",
            "userId": "106137682665301037063"
          }
        }
      },
      "cell_type": "code",
      "source": [
        "sample = random.choice(mnist.test.images)\n",
        "\n",
        "predictions = sess.run(y_pred, feed_dict={X: [sample] })[0]\n",
        "\n",
        "for i, v in enumerate(predictions):\n",
        "  print(u\"Resmin %d olma ihtimali :%.2f%%\" % (i,v*100))\n",
        "  \n",
        "show_digit(sample)  "
      ],
      "execution_count": 10,
      "outputs": [
        {
          "output_type": "stream",
          "text": [
            "Resmin 0 olma ihtimali :99.69%\n",
            "Resmin 1 olma ihtimali :0.00%\n",
            "Resmin 2 olma ihtimali :0.00%\n",
            "Resmin 3 olma ihtimali :0.00%\n",
            "Resmin 4 olma ihtimali :0.00%\n",
            "Resmin 5 olma ihtimali :0.29%\n",
            "Resmin 6 olma ihtimali :0.02%\n",
            "Resmin 7 olma ihtimali :0.00%\n",
            "Resmin 8 olma ihtimali :0.00%\n",
            "Resmin 9 olma ihtimali :0.00%\n"
          ],
          "name": "stdout"
        },
        {
          "output_type": "display_data",
          "data": {
            "image/png": "[encoded data removed]",
            "text/plain": [
              "<matplotlib.figure.Figure at 0x7f9249e8c320>"
            ]
          },
          "metadata": {
            "tags": []
          }
        }
      ]
    },
    {
      "metadata": {
        "id": "RVqt2TuwDX4m",
        "colab_type": "code",
        "colab": {
          "autoexec": {
            "startup": false,
            "wait_interval": 0
          },
          "output_extras": [
            {
              "item_id": 1
            },
            {
              "item_id": 2
            }
          ],
          "base_uri": "https://localhost:8080/",
          "height": 435
        },
        "outputId": "702fe92a-1b26-4cdf-aaf6-4011655a0d7a",
        "executionInfo": {
          "status": "ok",
          "timestamp": 1517875328768,
          "user_tz": -180,
          "elapsed": 680,
          "user": {
            "displayName": "Eralp Özcan",
            "photoUrl": "//lh5.googleusercontent.com/-MCjMIIz2Q80/AAAAAAAAAAI/AAAAAAAAACQ/fYaY2ovTkhc/s50-c-k-no/photo.jpg",
            "userId": "106137682665301037063"
          }
        }
      },
      "cell_type": "code",
      "source": [
        "random_img = np.random.rand(784)\n",
        "\n",
        "predictions = sess.run(y_pred, feed_dict={X: [random_img] })[0]\n",
        "\n",
        "for i, v in enumerate(predictions):\n",
        "  print(u\"Resmin %d olma ihtimali :%.2f%%\" % (i,v*100))\n",
        "  \n",
        "show_digit(random_img)"
      ],
      "execution_count": 11,
      "outputs": [
        {
          "output_type": "stream",
          "text": [
            "Resmin 0 olma ihtimali :0.00%\n",
            "Resmin 1 olma ihtimali :0.00%\n",
            "Resmin 2 olma ihtimali :37.09%\n",
            "Resmin 3 olma ihtimali :27.98%\n",
            "Resmin 4 olma ihtimali :0.00%\n",
            "Resmin 5 olma ihtimali :34.80%\n",
            "Resmin 6 olma ihtimali :0.00%\n",
            "Resmin 7 olma ihtimali :0.00%\n",
            "Resmin 8 olma ihtimali :0.13%\n",
            "Resmin 9 olma ihtimali :0.00%\n"
          ],
          "name": "stdout"
        },
        {
          "output_type": "display_data",
          "data": {
            "image/png": "[encoded data removed]",
            "text/plain": [
              "<matplotlib.figure.Figure at 0x7f9249e1ec50>"
            ]
          },
          "metadata": {
            "tags": []
          }
        }
      ]
    }
  ]
}